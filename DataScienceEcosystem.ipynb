{
 "cells": [
  {
   "cell_type": "markdown",
   "id": "d7168126-f23d-469d-b05c-8ae4aeb016a0",
   "metadata": {},
   "source": [
    "# Data Science Tools and Ecosystem"
   ]
  },
  {
   "cell_type": "markdown",
   "id": "0f632fd2-bd6a-4a0e-9688-45736bb88a9c",
   "metadata": {},
   "source": [
    "In this Notebook, Data Science Tools and Ecosystem are summarized."
   ]
  },
  {
   "cell_type": "markdown",
   "id": "cf8c6fa1-0c7b-4cad-b0f6-8b02880308d3",
   "metadata": {
    "tags": []
   },
   "source": [
    "Some of the popular languages Data Scientists use are:\n",
    "1. Python\n",
    "2. R\n",
    "3. Julia\n",
    "4. Scala"
   ]
  },
  {
   "cell_type": "markdown",
   "id": "2e62b07a-62f8-49c7-a40b-e1dd6e948a4e",
   "metadata": {},
   "source": [
    "Some of the commonly used libraries used by Data Scientists include:\n",
    "1. TensorFlow\n",
    "2. Seaborn\n",
    "3. Keras\n",
    "4. scikit-learn"
   ]
  },
  {
   "cell_type": "markdown",
   "id": "e0f4018c-6dd3-4a8b-935b-643d61cdb281",
   "metadata": {},
   "source": [
    "|Data Science Tools|\n",
    "--------------------\n",
    "|VS Code|\n",
    "|RStudio|\n",
    "|Anaconda|\n",
    "|IBM Watson Studio|"
   ]
  },
  {
   "cell_type": "markdown",
   "id": "d280e225-8e2e-4957-825e-5eb42c5e0773",
   "metadata": {},
   "source": [
    "### Below are a few examples of evaluating arithmetic expressions in Python"
   ]
  },
  {
   "cell_type": "code",
   "execution_count": 2,
   "id": "8644ee61-7f20-490c-bd4b-1cc5f1d4b8b3",
   "metadata": {
    "tags": []
   },
   "outputs": [
    {
     "data": {
      "text/plain": [
       "17"
      ]
     },
     "execution_count": 2,
     "metadata": {},
     "output_type": "execute_result"
    }
   ],
   "source": [
    "#This is a simple arithmetic expression to multiply then add integers.\n",
    "(3*4)+5"
   ]
  },
  {
   "cell_type": "code",
   "execution_count": 3,
   "id": "7f8457a5-fab1-4fe4-a4e5-ae8883725444",
   "metadata": {
    "tags": []
   },
   "outputs": [
    {
     "data": {
      "text/plain": [
       "3.3333333333333335"
      ]
     },
     "execution_count": 3,
     "metadata": {},
     "output_type": "execute_result"
    }
   ],
   "source": [
    "#This will convert 200 minutes to hours by dividing it by 60.\n",
    "200/60"
   ]
  },
  {
   "cell_type": "markdown",
   "id": "bc91ab27-52d5-4891-96b3-1eeeb0a4feea",
   "metadata": {},
   "source": [
    "**Objectives**\n",
    "- Create a markdown cell to list data science libraries\n",
    "- Create a markdown cell introducing arithmetic examples\n",
    "- Create a code cell to multiply and add numbers\n",
    "- Create a code cell to convert minutes to hours"
   ]
  },
  {
   "cell_type": "markdown",
   "id": "b1d5c787-eb6e-4faa-9482-f56de917179e",
   "metadata": {},
   "source": [
    "## Author\n",
    "Devansh Singh Dev"
   ]
  },
  {
   "cell_type": "code",
   "execution_count": null,
   "id": "d491525e-6f73-4ac1-85f5-69a94acc3e4f",
   "metadata": {},
   "outputs": [],
   "source": []
  }
 ],
 "metadata": {
  "kernelspec": {
   "display_name": "Python 3 (ipykernel)",
   "language": "python",
   "name": "python3"
  },
  "language_info": {
   "codemirror_mode": {
    "name": "ipython",
    "version": 3
   },
   "file_extension": ".py",
   "mimetype": "text/x-python",
   "name": "python",
   "nbconvert_exporter": "python",
   "pygments_lexer": "ipython3",
   "version": "3.11.4"
  }
 },
 "nbformat": 4,
 "nbformat_minor": 5
}
